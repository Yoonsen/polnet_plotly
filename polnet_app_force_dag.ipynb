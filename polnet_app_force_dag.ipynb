{
 "cells": [
  {
   "cell_type": "code",
   "execution_count": 5,
   "id": "ee8d9f03-423d-4e9b-b9b3-de5a1eb4096b",
   "metadata": {},
   "outputs": [],
   "source": [
    "import dhlab as dh\n",
    "import pandas as pd\n",
    "import dhlab.graph_networkx_louvain as gnl\n",
    "import networkx as nx\n",
    "from IPython.display import HTML"
   ]
  },
  {
   "cell_type": "code",
   "execution_count": 6,
   "id": "7191c6eb-1b22-400a-81cd-e9999f2b8900",
   "metadata": {},
   "outputs": [],
   "source": [
    "import igraph as ig\n",
    "import leidenalg as la\n",
    "\n",
    "from igraph import Graph\n",
    "from leidenalg import find_partition\n",
    "import numpy as np\n",
    "import os"
   ]
  },
  {
   "cell_type": "code",
   "execution_count": 8,
   "id": "696d0882-b2b5-4455-abf5-7da3135f1ac0",
   "metadata": {},
   "outputs": [],
   "source": [
    "import conc_coll_corpus as co\n",
    "import polnet_graphs as polg"
   ]
  },
  {
   "cell_type": "code",
   "execution_count": 9,
   "id": "42b3dce7-f051-4bde-9176-9239655dd226",
   "metadata": {},
   "outputs": [],
   "source": [
    "from importlib import reload"
   ]
  },
  {
   "cell_type": "code",
   "execution_count": 10,
   "id": "c586429f-9b30-49de-ba2f-af32ce41e9bb",
   "metadata": {},
   "outputs": [],
   "source": [
    "zotero = co.zot()"
   ]
  },
  {
   "cell_type": "code",
   "execution_count": 11,
   "id": "762ed492-1cfc-4196-afbc-29315719b150",
   "metadata": {},
   "outputs": [],
   "source": [
    "G = polg.make_nx_graph(zotero)"
   ]
  },
  {
   "cell_type": "markdown",
   "id": "9bdb3289-3700-4a02-a34f-b046ab6637fb",
   "metadata": {},
   "source": [
    "## convert to igraph and use leiden algorithm"
   ]
  },
  {
   "cell_type": "code",
   "execution_count": 91,
   "id": "9a627158-fad6-4af7-bc58-124bc7b570bb",
   "metadata": {},
   "outputs": [
    {
     "data": {
      "text/plain": [
       "<module 'polnet_graphs' from '/mnt/disk1/Github/polnet_plotly/polnet_graphs.py'>"
      ]
     },
     "execution_count": 91,
     "metadata": {},
     "output_type": "execute_result"
    }
   ],
   "source": [
    "reload(polg)"
   ]
  },
  {
   "cell_type": "code",
   "execution_count": 12,
   "id": "54d83295-f8a1-46c3-b086-b9834be9aabb",
   "metadata": {},
   "outputs": [],
   "source": [
    "h = polg.igraph_from_networkx(G)"
   ]
  },
  {
   "cell_type": "code",
   "execution_count": 13,
   "id": "14bc86b7-a269-4a73-b5dc-a6461f182a8f",
   "metadata": {},
   "outputs": [],
   "source": [
    "degrees = polg.degree(h).set_index('vertex_id').to_dict()['degree']"
   ]
  },
  {
   "cell_type": "code",
   "execution_count": 14,
   "id": "babfaf39-3d7c-4424-afce-da177a9b4916",
   "metadata": {},
   "outputs": [
    {
     "data": {
      "text/plain": [
       "Index(['Key', 'Item Type', 'Publication Year', 'Author', 'Title',\n",
       "       'Publication Title', 'ISBN', 'Departement', 'Utdanning', 'Reform',\n",
       "       'Tematisk utvalg', 'Url', 'Abstract Note', 'Date', 'Date Added',\n",
       "       'Date Modified', 'Access Date', 'Pages', 'Num Pages', 'Issue', 'Volume',\n",
       "       'Number Of Volumes', 'Journal Abbreviation', 'Short Title', 'Series',\n",
       "       'Series Number', 'Series Text', 'Series Title', 'Publisher', 'Place',\n",
       "       'Language', 'Rights', 'Type2', 'Archive', 'Archive Location',\n",
       "       'Library Catalog', 'Call Number', 'Extra', 'Notes', 'File Attachments',\n",
       "       'Link Attachments', 'Manual Tags', 'Automatic Tags', 'Editor',\n",
       "       'Series Editor', 'Translator', 'Contributor', 'Attorney Agent',\n",
       "       'Book Author', 'Cast Member', 'Commenter', 'Composer', 'Cosponsor',\n",
       "       'Counsel', 'Interviewer', 'Producer', 'Recipient', 'Reviewed Author',\n",
       "       'Scriptwriter', 'Words By', 'Guest', 'Number', 'Edition',\n",
       "       'Running Time', 'Scale', 'Medium', 'Artwork Size', 'Filing Date',\n",
       "       'Application Number', 'Assignee', 'Issuing Authority', 'Country',\n",
       "       'Meeting Name', 'Conference Name', 'Court', 'References', 'Reporter',\n",
       "       'Legal Status', 'Priority Numbers', 'Programming Language', 'Version',\n",
       "       'System', 'Code', 'Code Number', 'Section', 'Session', 'Committee',\n",
       "       'History', 'Legislative Body', 'Type'],\n",
       "      dtype='object')"
      ]
     },
     "execution_count": 14,
     "metadata": {},
     "output_type": "execute_result"
    }
   ],
   "source": [
    "zotero.columns"
   ]
  },
  {
   "cell_type": "code",
   "execution_count": 17,
   "id": "918b0565-0ef5-4c3e-adab-3b18a6c7ed37",
   "metadata": {},
   "outputs": [],
   "source": [
    "years = zotero[['Key','Publication Year']].set_index('Key').to_dict()['Publication Year']"
   ]
  },
  {
   "cell_type": "code",
   "execution_count": 19,
   "id": "798f5543-e0c6-47eb-879c-323e0947bcd1",
   "metadata": {},
   "outputs": [],
   "source": [
    "#years"
   ]
  },
  {
   "cell_type": "code",
   "execution_count": 20,
   "id": "0994cc2b-a1ad-40e8-b422-5650f99ccbfb",
   "metadata": {},
   "outputs": [],
   "source": [
    "for v in h.vs:\n",
    "    v['centrality'] = degrees.get(v['name'], 0)\n",
    "    v['year'] = years.get(v['name'], 1980)"
   ]
  },
  {
   "cell_type": "code",
   "execution_count": 154,
   "id": "57e1f571-a1c2-4147-b551-b92576bd68c8",
   "metadata": {},
   "outputs": [],
   "source": [
    "#dict([(x[0], x[1]) for  x in polg.degree(h).set_index('vertex_id').to_records()])"
   ]
  },
  {
   "cell_type": "code",
   "execution_count": 21,
   "id": "74e4b977-b27a-45e2-a1e7-f0c56d529bca",
   "metadata": {},
   "outputs": [],
   "source": [
    "parts = polg.make_clusters(h)"
   ]
  },
  {
   "cell_type": "code",
   "execution_count": 22,
   "id": "7413524b-e999-4fec-ab3d-7955c76ab94e",
   "metadata": {},
   "outputs": [],
   "source": [
    "h.vs['community'] = parts.membership"
   ]
  },
  {
   "cell_type": "code",
   "execution_count": 111,
   "id": "d9893f17-1dbd-4d47-8765-a89ae7e36135",
   "metadata": {},
   "outputs": [],
   "source": [
    "#[vertex for vertex in h.vs]"
   ]
  },
  {
   "cell_type": "code",
   "execution_count": 23,
   "id": "a453654f-9e20-46b6-9cad-ae10ecc4900f",
   "metadata": {},
   "outputs": [],
   "source": [
    "import json\n",
    "\n",
    "# Assuming 'h' is your igraph graph\n",
    "\n",
    "# Extract nodes\n",
    "nodes = [{\"id\": vertex['name'], \"label\": vertex['label'], 'year': vertex['year'], 'community': vertex['community'], 'centrality':int(vertex['centrality'])} for vertex in h.vs]\n",
    "\n",
    "# Extract edges\n",
    "links = [{\"source\": edge.source_vertex['name'], \"target\": edge.target_vertex['name']} for edge in h.es]\n",
    "\n",
    "# Create a graph dictionary\n",
    "graph = {\"nodes\": nodes, \"links\": links}\n",
    "\n",
    "# Convert to JSON (if needed)\n",
    "graph_json = json.dumps(graph)\n",
    "\n",
    "# 'graph_json' is now ready to be used with D3.js\n"
   ]
  },
  {
   "cell_type": "code",
   "execution_count": 55,
   "id": "2b296304-fba0-4426-9e51-7ed262f6a5a3",
   "metadata": {},
   "outputs": [],
   "source": [
    "with open('polnet_dag.html', \"w\", encoding = \"utf-8\") as fp:\n",
    "    fp.write(f\"\"\"\n",
    "<!DOCTYPE html>\n",
    "<html lang=\"en\" xmlns=\"http://www.w3.org/1999/xhtml\" xmlns:xlink=\"http://www.w3.org/1999/xlink\">\n",
    "   <head>\n",
    "      <meta charset=\"UTF-8\">\n",
    "      <title>D3 Force Layout</title>\n",
    "      <style>\n",
    "         text {{\n",
    "         font-family: sans-serif;\n",
    "         }}\n",
    "      </style>\n",
    "   </head>\n",
    "   <body>\n",
    "      <svg width=\"1800\" height=\"2600\">\n",
    "       <defs>\n",
    "           <marker id=\"arrowhead\" markerWidth=\"10\" markerHeight=\"7\" \n",
    "  refX=\"10\" refY=\"3.5\" orient=\"auto\" fill=\"#555\">\n",
    "    <path d='M 0,-5 L 10 ,0 L 0,5' />\n",
    "  </marker>\n",
    "  </marker>\n",
    "        </defs>\n",
    "      \n",
    "      \n",
    "      </svg>\n",
    "      <script src=\"https://d3js.org/d3.v5.min.js\"></script>\n",
    "      <script>\n",
    "              d3.select(\"svg\").selectAll(\"*\").remove();\n",
    "         // Load the network graph\n",
    "          var graph = JSON.parse('{graph_json}'); \n",
    "\n",
    "         \n",
    " \n",
    "     \n",
    "         var nodes = graph.nodes;\n",
    "         var links = graph.links;\n",
    "\n",
    "         var svg = d3.select(\"svg\"),\n",
    "             width = +svg.attr(\"width\"),\n",
    "             height = +svg.attr(\"height\");\n",
    "\n",
    "        var centralityScale = d3.scaleLinear()\n",
    "         .domain([d3.min(nodes, d => d.centrality), d3.max(nodes, d => d.centrality)])\n",
    "         .range([5, 35]);  // Min and max circle radii\n",
    "         \n",
    "        var fontSizeScale = d3.scaleLinear()\n",
    "        .domain([d3.min(nodes, d => d.centrality), d3.max(nodes, d => d.centrality)])\n",
    "        .range([10, 30]);  // Min and max font sizes, adjust as needed\n",
    "        \n",
    "        var opacityScale = d3.scaleLinear()\n",
    "        .domain([d3.max(nodes, d => d.centrality), d3.min(nodes, d => d.centrality)])\n",
    "        .range([0.2, 0.7]);  // Min and max font sizes, adjust as needed\n",
    "\n",
    "function getYearPeriod(year, timeSpan) {{\n",
    "    var periodStart = year - (year % timeSpan);\n",
    "    var periodEnd = periodStart + timeSpan - 1;\n",
    "    return `${{periodStart}}-${{periodEnd}}`;\n",
    "}}\n",
    "\n",
    "function createYearAnchors(startYear, endYear, timeSpan, canvasHeight) {{\n",
    "    var yearAnchors = {{}};\n",
    "    var numberOfPeriods = Math.ceil((endYear - startYear + 1) / timeSpan);\n",
    "    var periodHeight = canvasHeight / numberOfPeriods;\n",
    "    var yOffset = periodHeight / 2;\n",
    "\n",
    "    for (var year = startYear; year <= endYear; year += timeSpan) {{\n",
    "        var period = getYearPeriod(year, timeSpan);\n",
    "        yearAnchors[period] = {{\n",
    "            x: 500,  // Central x-axis position, adjust as needed\n",
    "            y: yOffset + ((year - startYear) / timeSpan) * periodHeight\n",
    "        }};\n",
    "    }}\n",
    "\n",
    "    return yearAnchors;\n",
    "}}\n",
    "\n",
    "var yearAnchors = createYearAnchors(1950, 2020, 5, 4000);  // Example usage\n",
    "\n",
    "\n",
    "var simulation = d3.forceSimulation(nodes)\n",
    "    .force(\"link\", d3.forceLink(links).id(d => d.id))\n",
    "    .force(\"charge\", d3.forceManyBody().strength(-150))\n",
    "    .force(\"center\", d3.forceCenter(width / 2, height / 2))\n",
    "    .force(\"yearAnchor\", alpha => forceYearAnchor(alpha, nodes, yearAnchors, 5)); // Pass nodes directly\n",
    "\n",
    "function forceYearAnchor(alpha, nodes, yearAnchors, timeSpan) {{\n",
    "    var strength = 0.1;\n",
    "    nodes.forEach(function(d) {{\n",
    "        var period = getYearPeriod(d.year, timeSpan);\n",
    "        var target = yearAnchors[period];\n",
    "        if (!target) {{\n",
    "            console.warn('No target found for period:', period);\n",
    "            return;\n",
    "        }}\n",
    "        d.vx += (target.x - d.x) * alpha * strength;\n",
    "        d.vy += (target.y - d.y) * alpha * strength;\n",
    "    }});\n",
    "}}\n",
    "\n",
    "                 \n",
    "         // Add links\n",
    " var link = svg.append(\"g\")\n",
    "          .attr(\"class\", \"links\")\n",
    "          .selectAll(\"path\")\n",
    "          .data(links)\n",
    "          .enter().append(\"path\")\n",
    "          .attr(\"fill\", \"none\")\n",
    "          .attr(\"stroke\", \"#555\")\n",
    "          .attr(\"stroke-width\", 0.8)\n",
    "          .attr(\"stroke-opacity\", 0.2)\n",
    "          .attr(\"marker-end\", \"url(#arrowhead)\");  \n",
    "         \n",
    "         // Add nodes\n",
    "         // Create groups for nodes and labels\n",
    "         var node = svg.append(\"g\")\n",
    "         .attr(\"class\", \"nodes\")\n",
    "         .selectAll(\".node\")\n",
    "         .data(nodes)\n",
    "         .enter().append(\"g\")\n",
    "         .attr(\"class\", \"node\")\n",
    "         .call(d3.drag()\n",
    "         .on(\"start\", dragstarted)\n",
    "         .on(\"drag\", dragged)\n",
    "         .on(\"end\", dragended));\n",
    "         \n",
    "         // Append circles to the groups\n",
    "         var color = d3.scaleOrdinal(d3.schemeCategory10);  // adjust if needed\n",
    "         \n",
    "         // When appending circles:\n",
    "         node.append(\"circle\")\n",
    "         .attr(\"r\", d => centralityScale(d.centrality))\n",
    "         .attr(\"fill\", d => color(d.community))\n",
    "         .attr(\"fill-opacity\", d => opacityScale(d.centrality));\n",
    "         \n",
    "         \n",
    "         // Append labels to the groups\n",
    "        node.append(\"text\")\n",
    "        .attr(\"dx\", 12)\n",
    "        .attr(\"dy\", \".35em\")\n",
    "        .style(\"font-size\", d => fontSizeScale(d.centrality) + \"px\")\n",
    "        .style(\"fill\", \"darkslategray\")\n",
    "        .text(function(d) {{\n",
    "            return d.label;\n",
    "        }});\n",
    "         \n",
    "\n",
    "         \n",
    "         \n",
    "         simulation\n",
    "         .nodes(nodes)\n",
    "         .on(\"tick\", ticked);\n",
    "         \n",
    "         simulation.force(\"link\")\n",
    "         .links(links);\n",
    "         \n",
    "// Function to highlight a cluster\n",
    "function highlightCluster(clusterId, enlarge, nodeColor) {{\n",
    "    node.selectAll(\"circle\")\n",
    "        .filter(function(d) {{ return d.community === clusterId; }})\n",
    "        .transition()\n",
    "        .duration(150)\n",
    "        .attr(\"r\", function(d) {{ \n",
    "            return enlarge ? centralityScale(d.centrality) * 1.5 : centralityScale(d.centrality);\n",
    "        }});\n",
    "\n",
    "    // Also highlight the arcs\n",
    "    link.transition()\n",
    "        .duration(150)\n",
    "        .attr(\"stroke\", function(l) {{\n",
    "            return (l.source.community === clusterId || l.target.community === clusterId) \n",
    "                ? nodeColor // Highlight color\n",
    "                : \"#555\";  // Default color\n",
    "        }})\n",
    "        .attr(\"stroke-opacity\", function(l) {{\n",
    "            return (l.source.community === clusterId || l.target.community === clusterId) \n",
    "                ? 0.9 // Highlight opacity\n",
    "                : 0.2;  // Default opacity\n",
    "        }});\n",
    "}}\n",
    "\n",
    "node.on(\"mouseover\", function(d) {{\n",
    "    var nodeColor = color(d.community); // Retrieve the color of the hovered node\n",
    "    highlightCluster(d.community, true, nodeColor);\n",
    "    // Optional: Display a tooltip or additional info\n",
    "    // ... tooltip code ...\n",
    "}})\n",
    ".on(\"mouseout\", function(d) {{\n",
    "    // Reset nodes and links to their default state\n",
    "    node.selectAll(\"circle\")\n",
    "        .transition()\n",
    "        .duration(150)\n",
    "        .attr(\"r\", d => centralityScale(d.centrality));\n",
    "\n",
    "    link.transition()\n",
    "        .duration(150)\n",
    "        .attr(\"stroke\", \"#555\")  // Default link color\n",
    "        .attr(\"stroke-opacity\", 0.2);  // Default link opacity\n",
    "\n",
    "    // Optional: Hide the tooltip\n",
    "    // ... tooltip code ...\n",
    "}});\n",
    "\n",
    "\n",
    "         \n",
    "         // Add node labels\n",
    "         \n",
    "         \n",
    "         // ... rest of the code ...\n",
    "                     \n",
    "function ticked() {{\n",
    "    node.attr(\"transform\", d => `translate(${{d.x}},${{d.y}})`);\n",
    "\n",
    "    link.attr(\"d\", function(d) {{\n",
    "        var dx = d.target.x - d.source.x,\n",
    "            dy = d.target.y - d.source.y,\n",
    "            dr = Math.sqrt(dx * dx + dy * dy),\n",
    "            rSource = centralityScale(d.source.centrality), // Radius of source node\n",
    "            rTarget = centralityScale(d.target.centrality), // Radius of target node\n",
    "            offsetXSource = (dx * rSource) / dr,\n",
    "            offsetYSource = (dy * rSource) / dr,\n",
    "            offsetXTarget = (dx * rTarget) / dr,\n",
    "            offsetYTarget = (dy * rTarget) / dr;\n",
    "\n",
    "        // Control the amount of arching\n",
    "        var arcScale = 0.5; // Adjust this value to increase or decrease arching\n",
    "        var arcRadius = dr / arcScale;\n",
    "\n",
    "        var arcPath = `M ${{d.source.x + offsetXSource}} ${{d.source.y + offsetYSource}} \n",
    "                       A ${{arcRadius}} ${{arcRadius}} 0 0 1 \n",
    "                       ${{d.target.x - offsetXTarget}} ${{d.target.y - offsetYTarget}}`;\n",
    "        return arcPath;\n",
    "    }});\n",
    "}}\n",
    "\n",
    "         \n",
    "         function dragstarted(d) {{\n",
    "         if (!d3.event.active) simulation.alphaTarget(0.3).restart();\n",
    "         d.fx = d.x;\n",
    "         d.fy = d.y;\n",
    "         }}\n",
    "         \n",
    "         function dragged(d) {{\n",
    "         d.fx = d3.event.x;\n",
    "         d.fy = d3.event.y;\n",
    "         }}\n",
    "         \n",
    "         function dragended(d) {{\n",
    "         if (!d3.event.active) simulation.alphaTarget(0);\n",
    "         d.fx = null;\n",
    "         d.fy = null;\n",
    "         }}\n",
    "         \n",
    "      </script>\n",
    "   </body>\n",
    "</html>\"\"\")\n"
   ]
  },
  {
   "cell_type": "code",
   "execution_count": null,
   "id": "d3225675-a0eb-494f-b753-ef4e92e7f98f",
   "metadata": {},
   "outputs": [],
   "source": []
  }
 ],
 "metadata": {
  "kernelspec": {
   "display_name": "Python 3 (ipykernel)",
   "language": "python",
   "name": "python3"
  },
  "language_info": {
   "codemirror_mode": {
    "name": "ipython",
    "version": 3
   },
   "file_extension": ".py",
   "mimetype": "text/x-python",
   "name": "python",
   "nbconvert_exporter": "python",
   "pygments_lexer": "ipython3",
   "version": "3.10.12"
  }
 },
 "nbformat": 4,
 "nbformat_minor": 5
}
