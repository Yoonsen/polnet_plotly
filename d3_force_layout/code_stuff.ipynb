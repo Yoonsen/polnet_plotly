{
 "cells": [
  {
   "cell_type": "code",
   "execution_count": null,
   "id": "46f80c49-d796-4e28-8810-ff0402d29c49",
   "metadata": {},
   "outputs": [],
   "source": [
    "body > svg > g.labels > text:nth-child(1)"
   ]
  },
  {
   "cell_type": "code",
   "execution_count": null,
   "id": "3f51d232-41cd-400f-b451-2b4f84cfd3a8",
   "metadata": {},
   "outputs": [],
   "source": [
    "# labels\n",
    "\n",
    "var label = svg.append(\"g\")\n",
    "    .attr(\"class\", \"labels\")\n",
    "    .selectAll(\"text\")\n",
    "    .data(nodes)\n",
    "    .enter().append(\"text\")\n",
    "    .attr(\"dx\", 12) // position text to the right of the node\n",
    "    .attr(\"dy\", \".35em\")\n",
    "    .text(function(d) {\n",
    "        return d.id;\n",
    "    });"
   ]
  }
 ],
 "metadata": {
  "kernelspec": {
   "display_name": "Python 3 (ipykernel)",
   "language": "python",
   "name": "python3"
  },
  "language_info": {
   "codemirror_mode": {
    "name": "ipython",
    "version": 3
   },
   "file_extension": ".py",
   "mimetype": "text/x-python",
   "name": "python",
   "nbconvert_exporter": "python",
   "pygments_lexer": "ipython3",
   "version": "3.9.15"
  }
 },
 "nbformat": 4,
 "nbformat_minor": 5
}
